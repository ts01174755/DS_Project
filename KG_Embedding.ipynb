{
  "nbformat": 4,
  "nbformat_minor": 0,
  "metadata": {
    "colab": {
      "name": "WPU_KGEmbedding_DEEMO",
      "provenance": [],
      "private_outputs": true,
      "collapsed_sections": [],
      "include_colab_link": true
    },
    "kernelspec": {
      "name": "python3",
      "display_name": "Python 3"
    },
    "accelerator": "GPU"
  },
  "cells": [
    {
      "cell_type": "markdown",
      "metadata": {
        "id": "view-in-github",
        "colab_type": "text"
      },
      "source": [
        "<a href=\"https://colab.research.google.com/github/ts01174755/DS_Project/blob/main/KG_Embedding.ipynb\" target=\"_parent\"><img src=\"https://colab.research.google.com/assets/colab-badge.svg\" alt=\"Open In Colab\"/></a>"
      ]
    },
    {
      "cell_type": "code",
      "source": [
        "import pandas as pd\n",
        "import numpy as np\n",
        "import math\n",
        "import pprint\n",
        "import csv\n",
        "\n",
        "import matplotlib\n",
        "import matplotlib.pyplot as plt\n",
        "from matplotlib.font_manager import FontProperties\n",
        "import seaborn as sns\n",
        "\n",
        "from collections import defaultdict, deque\n",
        "from datetime import datetime, timedelta\n",
        "from tqdm import tqdm\n",
        "# from sklearn.utils import shuffle"
      ],
      "metadata": {
        "id": "M2f6XiqXtkdS"
      },
      "execution_count": null,
      "outputs": []
    },
    {
      "cell_type": "code",
      "source": [
        "%tensorflow_version 1.x"
      ],
      "metadata": {
        "id": "BwQ1YvAJ3tyZ"
      },
      "execution_count": null,
      "outputs": []
    },
    {
      "cell_type": "code",
      "source": [
        "import tensorflow as tf \n",
        "\n",
        "print('TensorFlow  version: {}'.format(tf.__version__))\n",
        "\n",
        "# Get the GPU name\n",
        "device_name = tf.test.gpu_device_name()\n",
        "if device_name != '/device:GPU:0':\n",
        "  raise SystemError('GPU device not found')\n",
        "print('Found GPU at: {}'.format(device_name))"
      ],
      "metadata": {
        "id": "fZFWLZG63wgh"
      },
      "execution_count": null,
      "outputs": []
    },
    {
      "cell_type": "code",
      "source": [
        "%%capture \n",
        "# Install AmpliGraph library\n",
        "! pip install ampligraph\n",
        "\n",
        "# Required to visualize embeddings with tensorboard projector, comment out if not required!\n",
        "! pip install --user tensorboard\n",
        "\n",
        "# Required to plot text on embedding clusters, comment out if not required!\n",
        "! pip install --user git+https://github.com/Phlya/adjustText"
      ],
      "metadata": {
        "id": "UwL6u4gX3yWQ"
      },
      "execution_count": null,
      "outputs": []
    },
    {
      "cell_type": "markdown",
      "source": [
        "# Prepare Data"
      ],
      "metadata": {
        "id": "5uI0N6I8ru4s"
      }
    },
    {
      "cell_type": "code",
      "source": [
        "# Raw Data\n",
        "data = [\n",
        "    ['accountID1','buy','productID1'],\n",
        "    ['accountID1','buy','productID2'],\n",
        "    ['accountID1','buy','productID3'],\n",
        "    ['accountID1','buy','productID4'],\n",
        "    ['accountID1','buy','productID5'],\n",
        "    ['accountID2','buy','productID1'],\n",
        "    ['accountID2','buy','productID2'],\n",
        "    ['accountID2','buy','productID3'],\n",
        "    ['accountID3','buy','productID3'],\n",
        "    ['accountID3','buy','productID4'],\n",
        "    ['accountID3','buy','productID5'],\n",
        "    ['productID1','category','cloth'],\n",
        "    ['productID2','category','Pants'],\n",
        "    ['productID3','category','coat'],\n",
        "    ['productID4','category','ring'],\n",
        "    ['productID5','category','hat'],\n",
        "    ['productID6','category','cloth'],    # productID6是新商品\n",
        "  ]\n",
        "print(data[:3])"
      ],
      "metadata": {
        "id": "i3fIAjLXry5T"
      },
      "execution_count": null,
      "outputs": []
    },
    {
      "cell_type": "code",
      "source": [
        "# 圖譜建構 - 由頂至下\n",
        "kg_graph = defaultdict(lambda: defaultdict(set))\n",
        "for data_ in tqdm(data):\n",
        "    if data_[1] == 'buy':\n",
        "        kg_graph['root']['account'].add(data_[0])\n",
        "    kg_graph[str(data_[0])][str(data_[1])].add(str(data_[2]))\n",
        "\n",
        "# 補丁 - new product\n",
        "kg_graph['root']['account'].add('ADMIN')\n",
        "kg_graph['ADMIN']['require'].add('productID6')\n",
        "print(kg_graph)"
      ],
      "metadata": {
        "id": "U1qUsRqBt7lo"
      },
      "execution_count": null,
      "outputs": []
    },
    {
      "cell_type": "code",
      "source": [
        "# 基於路徑的推理\n",
        "for id_ in tqdm(kg_graph['root']['account']):\n",
        "    for product_ in kg_graph[id_]['buy']:\n",
        "        for category_ in kg_graph[product_]['category']:\n",
        "            kg_graph[id_]['require'].add(category_)\n",
        "print()\n",
        "print(kg_graph['accountID1'])"
      ],
      "metadata": {
        "id": "zp67XPkVtBqM"
      },
      "execution_count": null,
      "outputs": []
    },
    {
      "cell_type": "code",
      "source": [
        "# Write FILE\n",
        "with open(f\"./kg_data.csv\", 'w', encoding='utf-8', newline='') as csvfile:\n",
        "    writer = csv.DictWriter(csvfile, fieldnames=['Entity1', 'Relation', 'Entity2'])\n",
        "    writer.writeheader()\n",
        "\n",
        "    traversal = set()\n",
        "    RDF = deque()\n",
        "    RDF.append('root')\n",
        "    while len(RDF) != 0:\n",
        "        Entity1 = RDF.popleft()\n",
        "        for Relation in kg_graph[Entity1].keys():\n",
        "            for Entity2 in kg_graph[Entity1][Relation]:\n",
        "                if (Entity1, Relation, Entity2) in traversal: continue\n",
        "                traversal.add((Entity1, Relation, Entity2))\n",
        "                RDF.append(Entity2)\n",
        "                writer.writerow({\n",
        "                    'Entity1': Entity1,\n",
        "                    'Relation': Relation,\n",
        "                    'Entity2': Entity2\n",
        "                })"
      ],
      "metadata": {
        "id": "Svzg6LSltEAZ"
      },
      "execution_count": null,
      "outputs": []
    },
    {
      "cell_type": "markdown",
      "source": [
        "# KG_Model"
      ],
      "metadata": {
        "id": "XaYysDij3dIY"
      }
    },
    {
      "cell_type": "code",
      "source": [
        "import tensorflow as tf\n",
        "import ampligraph\n",
        "from ampligraph.evaluation import train_test_split_no_unseen, evaluate_performance, mr_score, mrr_score, hits_at_n_score\n",
        "from ampligraph.latent_features import TransE, ComplEx, HolE, DistMult, ConvE, ConvKB\n",
        "from ampligraph.utils import save_model, restore_model\n",
        "from sklearn.utils import shuffle\n",
        "\n",
        "print('Ampligraph version: {}'.format(ampligraph.__version__))"
      ],
      "metadata": {
        "id": "8EPzj_jF36AS"
      },
      "execution_count": null,
      "outputs": []
    },
    {
      "cell_type": "code",
      "source": [
        "kg_data = pd.read_csv('./kg_data.csv')\n",
        "print(kg_data.head())"
      ],
      "metadata": {
        "id": "oret2jiYQiee"
      },
      "execution_count": null,
      "outputs": []
    },
    {
      "cell_type": "code",
      "source": [
        "# KG model training\n",
        "model = ComplEx(\n",
        "            batches_count=2, seed=17, epochs=100, k=50, eta=2,\n",
        "            loss='multiclass_nll', loss_params={'margin': 1},\n",
        "            optimizer = 'sgd', optimizer_params = {'lr': 3e-2, 'end_lr': 5e-5, 'decay_cycle': 30, 'decay_lr_rate': 1.5},\n",
        "            regularizer = 'LP', regularizer_params={'p': 3, 'lambda':0.01},\n",
        "            verbose = True\n",
        "        )\n",
        "\n",
        "model.fit(kg_data.to_numpy())\n",
        "\n",
        "save_model(model, 'ComplEx.pkl')"
      ],
      "metadata": {
        "id": "aIslSIGJ4iBZ"
      },
      "execution_count": null,
      "outputs": []
    },
    {
      "cell_type": "code",
      "source": [
        "# 人的需求分數\n",
        "person_category_triples = [ \n",
        "      ['accountID2' for _ in range(5)],\n",
        "      ['require' for _ in range(5)],\n",
        "      ['cloth', 'Pants', 'coat', 'ring', 'hat']\n",
        "  ]\n",
        "hypothesis = np.column_stack(person_category_triples)\n",
        "# print(hypothesis)\n",
        "\n",
        "triple_score = model.predict(hypothesis)\n",
        "print('Triple of interest:\\n', hypothesis)\n",
        "print('Triple Score:\\n', triple_score)"
      ],
      "metadata": {
        "id": "0uRd-8De9xkt"
      },
      "execution_count": null,
      "outputs": []
    },
    {
      "cell_type": "code",
      "source": [
        " # 商品的類別分數\n",
        "product_category_triples = [ \n",
        "      ['productID6' for _ in range(5)],\n",
        "      ['category' for _ in range(5)],\n",
        "      ['cloth', 'Pants', 'coat', 'ring', 'hat']\n",
        "  ]\n",
        "hypothesis = np.column_stack(product_category_triples)\n",
        "# print(hypothesis)\n",
        "\n",
        "triple_score = model.predict(hypothesis)\n",
        "print('Triple of interest:\\n', hypothesis)\n",
        "print('Triple Score:\\n', triple_score)"
      ],
      "metadata": {
        "id": "l5UoqHYS_3zo"
      },
      "execution_count": null,
      "outputs": []
    },
    {
      "cell_type": "code",
      "source": [
        "# 人對新商品的喜好分數\n",
        "person_product_triples = [ \n",
        "      ['accountID1','accountID2','accountID3'],\n",
        "      ['buy','buy','buy'],\n",
        "      ['productID6','productID6','productID6']\n",
        "  ]\n",
        "hypothesis = np.column_stack(person_product_triples)\n",
        "# print(hypothesis)\n",
        "\n",
        "triple_score = model.predict(hypothesis)\n",
        "print('Triple of interest:\\n', hypothesis)\n",
        "print('Triple Score:\\n', triple_score)"
      ],
      "metadata": {
        "id": "8Gco4C-lAJB1"
      },
      "execution_count": null,
      "outputs": []
    },
    {
      "cell_type": "code",
      "source": [
        "# from ampligraph.utils import create_tensorboard_visualizations\n",
        "\n",
        "# model = restore_model('ComplEx.pkl')\n",
        "\n",
        "# create_tensorboard_visualizations(model, 'embeddings_model')\n",
        "\n",
        "# Only run if using jupyter notebook \n",
        "# ! tensorboard --logdir='./embeddings_model'"
      ],
      "metadata": {
        "id": "nOu3UhB6UTND"
      },
      "execution_count": null,
      "outputs": []
    },
    {
      "cell_type": "markdown",
      "source": [
        "# Visualizing"
      ],
      "metadata": {
        "id": "YbatdeMQYax9"
      }
    },
    {
      "cell_type": "code",
      "source": [
        "# 列舉所有 account - category 分數\n",
        "person_category_triples = []\n",
        "for account_ in ['accountID1','accountID2','accountID3']:\n",
        "    for category_ in ['cloth', 'Pants', 'coat', 'ring', 'hat']:\n",
        "        person_category_triples.append([account_, 'require', category_])\n",
        "\n",
        "person_category_scores = model.predict(person_category_triples)\n",
        "for ind_ in range(len(person_category_scores)):\n",
        "  if person_category_scores[ind_] < 0: person_category_scores[ind_] = 0\n",
        "\n",
        "print(person_category_scores)\n",
        "\n",
        "# 建構雷達圖需要的資料格式\n",
        "radar_dict = defaultdict(list)\n",
        "radar_dict['group'] = ['accountID1','accountID2','accountID3']\n",
        "for ind_, triple_ in enumerate(person_category_triples):\n",
        "    category_ = triple_[2]\n",
        "    radar_dict[category_].append(person_category_scores[ind_])\n",
        "\n",
        "df = pd.DataFrame(radar_dict)\n",
        "\n",
        "print(df)"
      ],
      "metadata": {
        "id": "rl1DV7IqZ6NI"
      },
      "execution_count": null,
      "outputs": []
    },
    {
      "cell_type": "code",
      "source": [
        "# ------- PART 1: Create background\n",
        " \n",
        "# number of variable\n",
        "categories=list(df)[1:]\n",
        "category_num = df.shape[1] - 1\n",
        " \n",
        "# What will be the angle of each axis in the plot? (we divide the plot / number of variable)\n",
        "angles = [n / float(category_num) * 2 * math.pi for n in range(category_num)]\n",
        "angles += angles[:1]\n",
        " \n",
        "# Initialise the spider plot\n",
        "ax = plt.subplot(111, polar=True)\n",
        " \n",
        "# If you want the first axis to be on top:\n",
        "ax.set_theta_offset(math.pi / 2)\n",
        "ax.set_theta_direction(-1)\n",
        " \n",
        "# Draw one axe per variable + add labels\n",
        "plt.xticks(angles[:-1], categories)\n",
        " \n",
        "# Draw ylabels\n",
        "ax.set_rlabel_position(0)\n",
        "plt.yticks([1,2,3], [\"1\",\"2\",\"3\"], color=\"grey\", size=7)\n",
        "plt.ylim(0,int(max(person_category_scores)) +1)\n",
        "\n",
        "# ------- PART 2: Add plots\n",
        " \n",
        "# Plot each individual = each line of the data\n",
        "# I don't make a loop, because plotting more than 3 groups makes the chart unreadable\n",
        " \n",
        "# Ind1\n",
        "values=df.loc[0].drop('group').values.flatten().tolist()\n",
        "values += values[:1]\n",
        "ax.plot(angles, values, linewidth=1, linestyle='solid', label=\"group A\")\n",
        "ax.fill(angles, values, 'b', alpha=0.1)\n",
        " \n",
        "# Ind2\n",
        "values=df.loc[1].drop('group').values.flatten().tolist()\n",
        "values += values[:1]\n",
        "ax.plot(angles, values, linewidth=1, linestyle='solid', label=\"group B\")\n",
        "ax.fill(angles, values, 'r', alpha=0.1)\n",
        " \n",
        "# Ind2\n",
        "values=df.loc[2].drop('group').values.flatten().tolist()\n",
        "values += values[:1]\n",
        "ax.plot(angles, values, linewidth=1, linestyle='solid', label=\"group B\")\n",
        "ax.fill(angles, values, 'g', alpha=0.1)\n",
        " \n",
        "# Add legend\n",
        "plt.legend(loc='upper right', bbox_to_anchor=(0.1, 0.1))\n",
        "\n",
        "# Show the graph\n",
        "plt.show()"
      ],
      "metadata": {
        "id": "9i8ppuQIe0X9"
      },
      "execution_count": null,
      "outputs": []
    },
    {
      "cell_type": "code",
      "source": [
        ""
      ],
      "metadata": {
        "id": "gwa3z7Jqgc6y"
      },
      "execution_count": null,
      "outputs": []
    }
  ]
}